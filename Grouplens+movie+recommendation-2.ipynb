{
 "cells": [
  {
   "cell_type": "markdown",
   "metadata": {},
   "source": [
    "# User-based collaborative filtering method "
   ]
  },
  {
   "cell_type": "markdown",
   "metadata": {},
   "source": [
    "## Read in grouplens 100k movie datasets and explore properties"
   ]
  },
  {
   "cell_type": "code",
   "execution_count": 1,
   "metadata": {
    "collapsed": true
   },
   "outputs": [],
   "source": [
    "movies={}\n",
    "for x in open('Desktop/ml-100k/u.item'):\n",
    "    (id,title,rlsdate)=x.split('|')[0:3]\n",
    "    movies[id]=title\n",
    "#create a dictionary of ratings with userid as the first key and movie name as the second key\n",
    "rate={}\n",
    "for x in open('Desktop/ml-100k/u.data'):\n",
    "    (userid,itemid,rating,time)=x.split('\\t')\n",
    "    rate.setdefault(userid,{})\n",
    "    rate[userid][movies[itemid]]=float(rating)\n",
    "####################################################\n",
    "mvrate={}\n",
    "for x in open('Desktop/ml-100k/u.data'):\n",
    "    (userid,itemid,rating,time)=x.split('\\t')\n",
    "   \n",
    "    #some movies are not rated by anyone\n",
    "    mvrate.setdefault(movies[itemid],{})\n",
    "    mvrate[movies[itemid]][userid]=float(rating)"
   ]
  },
  {
   "cell_type": "code",
   "execution_count": 7,
   "metadata": {
    "collapsed": true
   },
   "outputs": [
    {
     "data": {
      "text/plain": [
       "[]"
      ]
     },
     "execution_count": 7,
     "metadata": {},
     "output_type": "execute_result"
    }
   ],
   "source": [
    "import matplotlib.pyplot as plt\n",
    "\n",
    "#plot a figure with two users as axis and each point is the rating by the two users on a single movie\n",
    "x=[]\n",
    "y=[]\n",
    "mvname=[]\n",
    "\n",
    "#movie1 and movie2 are movie names\n",
    "for movie1 in rate['344']:\n",
    "    for movie2 in rate['345']:\n",
    "        if(movie1==movie2):\n",
    "            x.append(rate['344'][movie1])\n",
    "            y.append(rate['345'][movie2])\n",
    "            mvname.append(movie1)\n",
    "fig=plt.figure()\n",
    "plt.scatter(x,y)\n",
    "plt.axis([0,6,0,6])\n",
    "plt.xlabel('user 344')\n",
    "plt.ylabel('user 345')\n",
    "for i,txt in enumerate(mvname):\n",
    "        plt.annotate(txt,(x[i],y[i]))\n",
    "plt.plot()"
   ]
  },
  {
   "cell_type": "code",
   "execution_count": 3,
   "metadata": {
    "collapsed": true
   },
   "outputs": [
    {
     "data": {
      "text/plain": [
       "[]"
      ]
     },
     "execution_count": 3,
     "metadata": {},
     "output_type": "execute_result"
    }
   ],
   "source": [
    "#Plot a figure with two movies as axis and each point is the rating by a user for the two movies\n",
    "a=[]\n",
    "b=[]\n",
    "username=[]\n",
    "for user1 in mvrate[movies['340']]:\n",
    "    for user2 in mvrate[movies['345']]:\n",
    "        if(user1==user2):\n",
    "            a.append(mvrate[movies['340']][user1])\n",
    "            b.append(mvrate[movies['345']][user2])\n",
    "            username.append(user1)\n",
    "\n",
    "fig=plt.figure()\n",
    "plt.scatter(a,b)\n",
    "plt.axis([0,6,0,6])\n",
    "plt.xlabel(movies['340'])\n",
    "plt.ylabel(movies['345'])\n",
    "for i,txt in enumerate(username):\n",
    "        plt.annotate(txt,(a[i],b[i]))\n",
    "plt.plot()"
   ]
  },
  {
   "cell_type": "markdown",
   "metadata": {},
   "source": [
    "## Define methods to find 'neighbors' for a certain user based on several distance metrics"
   ]
  },
  {
   "cell_type": "code",
   "execution_count": 4,
   "metadata": {
    "collapsed": true
   },
   "outputs": [],
   "source": [
    "#where the method parameter is a pearson or euclid as defined in the other file\n",
    "def simiuser(dict,person,n,method):\n",
    "    t=[]\n",
    "    for id in dict:\n",
    "        if(id!=person):\n",
    "            value=float(method(dict,person,id))\n",
    "            t.append((id,value))   \n",
    "            \n",
    "    t.sort(key=lambda tup:tup[1],reverse=True)  \n",
    "    top=t[:n]\n",
    "    print top\n",
    "##################################################    \n",
    "#CALCULATE EUCLIDEAN DISTANCE BETWEEN TWO DATA SETS\n",
    "#dict is a 2d dictionary \n",
    "#person1 and person2 are user ids in the form of 'id'\n",
    "def euclid(dict,person1,person2):\n",
    "    c=[]\n",
    "    d=[]\n",
    "    for movie1 in dict[person1]:\n",
    "        for movie2 in dict[person2]:\n",
    "            if(movie1==movie2):\n",
    "                c.append(dict[person1][movie1])\n",
    "                d.append(dict[person2][movie2])\n",
    "    a=np.array(c)\n",
    "    b=np.array(d)\n",
    "    dist = np.linalg.norm(a-b)\n",
    "    return dist\n",
    "##############################################    \n",
    "#CALCULATE PEARSON CORRELATION BETWEEN TWO DATA SETS\n",
    "#dict is a 2d dictionary\n",
    "#person1 and person2 are user ids in the form of 'id'\n",
    "import math\n",
    "def pearson(dict,person1,person2):\n",
    "    c=[]\n",
    "    d=[]\n",
    "    x=[]\n",
    "    y=[]\n",
    "    for movie1 in dict[person1]:\n",
    "        for movie2 in dict[person2]:\n",
    "            if(movie1==movie2):\n",
    "                c.append(dict[person1][movie1])\n",
    "                d.append(dict[person2][movie2])\n",
    "    if c and d:\n",
    "        cmean=sum(c)/len(c)\n",
    "        dmean=sum(d)/len(d)\n",
    "        x=numpy.array(c)-cmean\n",
    "        y=numpy.array(d)-dmean\n",
    "        denom=math.sqrt(sum(numpy.array(x)**2)*sum(numpy.array(y)**2))\n",
    "        num=sum(x*y)\n",
    "        #if one of the variance is zero, then there is no correlation \n",
    "        if(denom==0):\n",
    "            return 0\n",
    "        return float(num/denom)"
   ]
  },
  {
   "cell_type": "code",
   "execution_count": 8,
   "metadata": {
    "collapsed": true
   },
   "outputs": [],
   "source": [
    "# predict user rating of movies he/she has not rated yet and include the predicted value in the dictionary\n",
    "# depend on dictionaries \"movies\" and \"mvrate\"\n",
    "\n",
    "def mean(dict,key):\n",
    "    import numpy \n",
    "    val = []\n",
    "    for each in dict[key].itervalues():\n",
    "        val.append(each)     \n",
    "    return numpy.mean(val)\n",
    "    \n",
    "def std(dict,key):\n",
    "    import numpy\n",
    "    val = []\n",
    "    for each in dict[key].itervalues():\n",
    "        val.append(each)   \n",
    "    return numpy.std(val)\n",
    "   \n",
    "def zscore(dict,movie,user):\n",
    "    return (dict[user][movie]-mean(dict,user))/std(dict,user)\n",
    "\n",
    "def predict(dict,user,method):\n",
    "#mv is the movie name\n",
    "    num=0\n",
    "    denom=0\n",
    "    for mv in movies.itervalues():\n",
    "        if mv not in dict[user]:\n",
    "        #a list of users who have rated the mv\n",
    "            u=mvrate[mv].keys()\n",
    "            for i in u:\n",
    "                num=num+(zscore(dict,mv,i)*method(dict,user,i))\n",
    "                denom=denom+pearson(dict,user,i)\n",
    "            dict[user][mv]=int(mean(dict,user)+std(dict,user)*(num/denom))\n",
    "         "
   ]
  },
  {
   "cell_type": "markdown",
   "metadata": {},
   "source": [
    "## The final recommender"
   ]
  },
  {
   "cell_type": "code",
   "execution_count": 5,
   "metadata": {
    "collapsed": true
   },
   "outputs": [],
   "source": [
    "import numpy\n",
    "def recommender(dict, user, distance_metric, n):\n",
    "    #recommend items for the user in the format of (predicted rating, item_name)\n",
    "    weighted_rating={}\n",
    "    weights={}\n",
    "    threshold=0.2\n",
    "    for neib in dict:\n",
    "        if(neib != user):\n",
    "            dist=distance_metric(dict,user,neib)\n",
    "            for mv in dict[neib]:\n",
    "                if(mv not in dict[user] and dist>threshold):\n",
    "                    if(mv not in weighted_rating):\n",
    "                        weighted_rating.setdefault(mv,0)\n",
    "                        weights.setdefault(mv,0)\n",
    "                        \n",
    "                    weighted_rating[mv] += dist*dict[neib][mv]\n",
    "                    weights[mv] += dist\n",
    "    result = [(weighted_rating[i]/weights[i],i)for i in weights]\n",
    "    result.sort(key=lambda tup:tup[0],reverse=True)\n",
    "    top=result[:n]\n",
    "    return top"
   ]
  },
  {
   "cell_type": "markdown",
   "metadata": {},
   "source": [
    "## Using the recommender to suggest top 4 movies for user id '344'"
   ]
  },
  {
   "cell_type": "code",
   "execution_count": 6,
   "metadata": {},
   "outputs": [
    {
     "data": {
      "text/plain": [
       "[(5.000000000000001, 'Angel Baby (1995)'),\n",
       " (5.0, 'Aparajito (1956)'),\n",
       " (5.0, 'They Made Me a Criminal (1939)'),\n",
       " (5.0, \"Someone Else's America (1995)\")]"
      ]
     },
     "execution_count": 6,
     "metadata": {},
     "output_type": "execute_result"
    }
   ],
   "source": [
    "recommender(rate,'344',pearson,4)"
   ]
  },
  {
   "cell_type": "markdown",
   "metadata": {},
   "source": [
    "## Calculate root mean square error (RMSE) of the recommender for one user "
   ]
  },
  {
   "cell_type": "code",
   "execution_count": 23,
   "metadata": {
    "collapsed": true
   },
   "outputs": [],
   "source": [
    "from sklearn.metrics import mean_squared_error\n",
    "from math import sqrt\n",
    "\n",
    "def rmse(dict,user,distance_metric):\n",
    "    predicted=[]\n",
    "    real=[]\n",
    "    weighted_rating={}\n",
    "    weights={}\n",
    "    threshold=0.2\n",
    "    for neib in dict:\n",
    "        if(neib!=user):\n",
    "            dist=distance_metric(dict,user,neib)\n",
    "            for mv in dict[neib]:\n",
    "                if(mv in dict[user] and dist>threshold):\n",
    "                    if(mv not in weighted_rating):\n",
    "                        weighted_rating.setdefault(mv,0)\n",
    "                        weights.setdefault(mv,0)\n",
    "                    \n",
    "                    weighted_rating[mv] += dist*dict[neib][mv]\n",
    "                    weights[mv] += dist\n",
    "                \n",
    "    predicted=[(weighted_rating[i]/weights[i]) for i in weights]\n",
    "    real=[dict[user][i] for i in weights]\n",
    "    rms = sqrt(mean_squared_error(real,predicted))\n",
    "    print(rms)"
   ]
  },
  {
   "cell_type": "code",
   "execution_count": 24,
   "metadata": {},
   "outputs": [
    {
     "name": "stdout",
     "output_type": "stream",
     "text": [
      "0.668173115811\n"
     ]
    }
   ],
   "source": [
    "rmse(rate,'344',pearson)"
   ]
  },
  {
   "cell_type": "markdown",
   "metadata": {},
   "source": [
    "## Calculate root mean square error (RMSE) of the the recommender for all users"
   ]
  },
  {
   "cell_type": "code",
   "execution_count": 11,
   "metadata": {
    "collapsed": true
   },
   "outputs": [],
   "source": [
    "from collections import OrderedDict\n",
    "import numpy\n",
    "from math import sqrt\n",
    "from sklearn.metrics import mean_squared_error\n",
    "\n",
    "def rmse(dict,distance_metric):\n",
    "    predicted=OrderedDict()\n",
    "    real=OrderedDict()\n",
    "    for user in dict:\n",
    "        weighted_rating={}\n",
    "        weights={}\n",
    "        threshold=0.2\n",
    "        for neib in dict:\n",
    "            if(neib!=user):\n",
    "                dist=distance_metric(dict,user,neib)\n",
    "                for mv in dict[neib]:\n",
    "                    if(mv in dict[user] and dist>threshold):\n",
    "                        if(mv not in weighted_rating):\n",
    "                            weighted_rating.setdefault(mv,0)\n",
    "                            weights.setdefault(mv,0)\n",
    "\n",
    "                        weighted_rating[mv] += dist*dict[neib][mv]\n",
    "                        weights[mv] += dist\n",
    "\n",
    "        predicted[user]=[(weighted_rating[i]/weights[i]) for i in weights]\n",
    "        real[user]=[dict[user][i] for i in weights]\n",
    "    predicted_list=[item for sublist in predicted.values() for item in sublist]\n",
    "    real_list=[item for sublist in real.values() for item in sublist]\n",
    "    rms = sqrt(mean_squared_error(real_list,predicted_list))\n",
    "    print(rms)"
   ]
  },
  {
   "cell_type": "code",
   "execution_count": 12,
   "metadata": {},
   "outputs": [
    {
     "name": "stdout",
     "output_type": "stream",
     "text": [
      "0.884595068534\n"
     ]
    }
   ],
   "source": [
    "rmse(rate,pearson)"
   ]
  },
  {
   "cell_type": "markdown",
   "metadata": {},
   "source": [
    "# Compared with RMSE of KNN taking into account the z-score normalization of each user"
   ]
  },
  {
   "cell_type": "code",
   "execution_count": 5,
   "metadata": {},
   "outputs": [],
   "source": [
    "from surprise import Dataset\n",
    "from surprise import evaluate, print_perf\n",
    "from surprise import KNNWithZScore"
   ]
  },
  {
   "cell_type": "code",
   "execution_count": 6,
   "metadata": {},
   "outputs": [],
   "source": [
    "data = Dataset.load_builtin('ml-100k')\n",
    "data.split(n_folds=3)  #For 3 fold cross-validaiton"
   ]
  },
  {
   "cell_type": "code",
   "execution_count": 7,
   "metadata": {},
   "outputs": [],
   "source": [
    "sim_options = {'name': 'cosine',  # Using the Cosine distance metric\n",
    "               'user_based': True  # compute  similarities between users\n",
    "               }\n",
    "algo = KNNWithZScore(sim_options=sim_options)\n"
   ]
  },
  {
   "cell_type": "code",
   "execution_count": 8,
   "metadata": {},
   "outputs": [
    {
     "name": "stdout",
     "output_type": "stream",
     "text": [
      "Evaluating RMSE, MAE of algorithm KNNWithZScore.\n",
      "\n",
      "------------\n",
      "Fold 1\n",
      "Computing the cosine similarity matrix...\n",
      "Done computing similarity matrix.\n",
      "RMSE: 0.9660\n",
      "MAE:  0.7580\n",
      "------------\n",
      "Fold 2\n",
      "Computing the cosine similarity matrix...\n",
      "Done computing similarity matrix.\n",
      "RMSE: 0.9621\n",
      "MAE:  0.7573\n",
      "------------\n",
      "Fold 3\n",
      "Computing the cosine similarity matrix...\n",
      "Done computing similarity matrix.\n",
      "RMSE: 0.9562\n",
      "MAE:  0.7509\n",
      "------------\n",
      "------------\n",
      "Mean RMSE: 0.9614\n",
      "Mean MAE : 0.7554\n",
      "------------\n",
      "------------\n",
      "        Fold 1  Fold 2  Fold 3  Mean    \n",
      "RMSE    0.9660  0.9621  0.9562  0.9614  \n",
      "MAE     0.7580  0.7573  0.7509  0.7554  \n"
     ]
    }
   ],
   "source": [
    "perf = evaluate(algo, data, measures=['RMSE', 'MAE'])\n",
    "\n",
    "print_perf(perf)"
   ]
  }
 ],
 "metadata": {
  "kernelspec": {
   "display_name": "Python 3",
   "language": "python",
   "name": "python3"
  },
  "language_info": {
   "codemirror_mode": {
    "name": "ipython",
    "version": 3
   },
   "file_extension": ".py",
   "mimetype": "text/x-python",
   "name": "python",
   "nbconvert_exporter": "python",
   "pygments_lexer": "ipython3",
   "version": "3.5.3"
  }
 },
 "nbformat": 4,
 "nbformat_minor": 1
}
